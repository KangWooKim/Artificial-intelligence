{
  "nbformat": 4,
  "nbformat_minor": 0,
  "metadata": {
    "colab": {
      "provenance": [],
      "collapsed_sections": [],
      "include_colab_link": true
    },
    "kernelspec": {
      "name": "python3",
      "display_name": "Python 3"
    },
    "language_info": {
      "name": "python"
    }
  },
  "cells": [
    {
      "cell_type": "markdown",
      "metadata": {
        "id": "view-in-github",
        "colab_type": "text"
      },
      "source": [
        "<a href=\"https://colab.research.google.com/github/KimDongBeen/Artificial-intelligence/blob/main/201512021_%EB%AA%85%EC%9E%AC%ED%9B%88_%EA%B3%BC%EC%A0%9C_1.ipynb\" target=\"_parent\"><img src=\"https://colab.research.google.com/assets/colab-badge.svg\" alt=\"Open In Colab\"/></a>"
      ]
    },
    {
      "cell_type": "markdown",
      "source": [
        "# 2022년 2학기 공학컴퓨터 프로그래밍 과제 1\n",
        "\n",
        "1. 과제 제출 기한 : 9월 28일 21시 (밤 9시)\n",
        "2. 제출 방법: 답안을 작성한 colab 노트북 파일 (파일이름은 본인 이름이 들어가게 변경하세요) 또는 공유링크를 강사에게 이메일로 제출 (jungtae.noh@kyonggi.ac.kr)\n",
        "3. 과제에 대한 문의 사항은 언제든지 강사 이메일로 문의해 주세요. \n",
        "4. 제출 기한을 넘겨서 제출한 경우 감점이 있습니다. \n",
        "5. 정답 예시에 상관없이 본인이 창의적으로 다른 코딩을 해서 문제가 요구하는 결과가 나오면 됩니다. 아래 예시는 예시일 뿐 하나의 정답만 있는 것이 아닙니다.  "
      ],
      "metadata": {
        "id": "cVs0fUDb5qte"
      }
    },
    {
      "cell_type": "code",
      "source": [
        "from google.colab import drive\n",
        "drive.mount('/content/drive')"
      ],
      "metadata": {
        "id": "XRuxHB_AM3TT"
      },
      "execution_count": null,
      "outputs": []
    },
    {
      "cell_type": "markdown",
      "source": [
        "# 문제 1. 세금 계산하기\n",
        "\n",
        "월급을 입력받아 세금을 계산해주슨 프로그램을 작성하세요. \n",
        "연봉(1년 급여) 및 세금 공식은 아래와 같습니다. \n",
        "\n",
        "\n",
        "1. 월급 500 (만원은 생략, 5,000,000만원은 500으로 입력)이상은 연봉 계산 시 월급의 12배 \n",
        "\n",
        "2. 월급이 500 미만은 연봉 계산 시 월급의 13배\n",
        "\n",
        "3. 납부할 세금의 비율 (%)는 연봉에 따라 정해진다.  \n",
        "연봉 1,000(만원) 미만 일 경우 세율 0%\n",
        "  - 연봉 1,000(만원) 이상, 5,000 미만 일 경우 세율 10%\n",
        "  - 연봉 5,000(만원) 이상, 7,000 미만 일 경우 세율 12%\n",
        "  - 연봉 7,000(만원) 이상, 10,000 (1억원) 미만 일 경우 세율 15%\n",
        "  - 연봉 10,000(1억원) 이상일 경우 세율 20%\n",
        "4. 세금 계산의 예\n",
        "  - 월급이 600 이면, 연봉은 12배인 7,200, 세금은 15%를 적용하면 1,080\n",
        "  - 월급이 300 이면, 연봉은 12배인 3,900, 세금은 10%를 적용하면 390\n",
        "5. 힌트\n",
        "  - input 명령어로 월급을 입력하세요\n",
        "  - if 명령어를 활용해서 입력한 월급에 해당하는 세금을 위의 예와 같이 print명령어로 출력하새요.   \n",
        "\n"
      ],
      "metadata": {
        "id": "_AHUCXs_2rAU"
      }
    },
    {
      "cell_type": "code",
      "source": [
        "# 문제 1 답안 작성 셀\n",
        "\n",
        "salary = int(input('salary : '))\n",
        "s = salary * 12\n",
        "month = 12\n",
        "if salary < 500:\n",
        "  s = s + salary\n",
        "  month = 13\n",
        "if s >= 10000:\n",
        "  tax = s * 0.2\n",
        "  rate = 20\n",
        "elif s >= 7000:\n",
        "  tax = s * 0.15\n",
        "  rate = 15\n",
        "elif s >= 5000:\n",
        "  tax = s * 0.12\n",
        "  rate = 12\n",
        "elif s >= 1000:\n",
        "  tax = s * 0.1\n",
        "  rate = 10\n",
        "else:\n",
        "  tax = 0\n",
        "  rate = 0\n",
        "\n",
        "print('월급이 ', salary, ' 이면, 연봉은 ',month, '배인', s, ', 세금은 ', rate,'%를 적용하면', tax)\n"
      ],
      "metadata": {
        "id": "wVxHYrpi6bji",
        "colab": {
          "base_uri": "https://localhost:8080/"
        },
        "outputId": "417fcc50-bb7e-4a19-a9c5-8e413c2e2165"
      },
      "execution_count": 36,
      "outputs": [
        {
          "output_type": "stream",
          "name": "stdout",
          "text": [
            "salary : 7777\n",
            "월급이  7777  이면, 연봉은  12 배인 93324 , 세금은  20 %를 적용하면 18664.8\n"
          ]
        }
      ]
    },
    {
      "cell_type": "markdown",
      "source": [
        "# 문제 2. 문자열의 단어들을 대문자, 소문자로 바꾸기\n",
        "\n",
        "문자열 \"Shall I compare thee to a summer's day?\"의 각 단어들 (shall, I, compare....)에서 홀수번째 단어는 대문자, 짝수번째 단어는 소문자로 바꾸는 프로그램은 만드세요.\n",
        "결과: \"SHALL i COMPARE thee TO a SUMMER'S day?\"\n",
        "\n",
        "\n",
        "1. 힌트\n",
        "  - for loop를 활용해서 문자열에 포함돤 단어의 갯수 8번 반복하세요.\n",
        "  - 아래와 같이 문자열을 단어로 분리하는 명령어 split()을 사용하세요\n",
        "    - mystring = \"shall I campare thee to a summer's day?\"\n",
        "    - mylist = mystring.split()\n",
        "  - 대문자로 바꾸는 명령어 mylist[].upper(), 소문자롤 바꾸는 명령어 mylist[].lower()를 활용하세요. mylist[]에서 []안에는 각 단어의 위치, 즉 인덱스를 넣습니다. \n",
        "  - 각각의 단어들로 분리된 문장을 다시 하나의 문장으로 이루어진 문자열로 바꿀 땐 아래의 명령어를 쓰세요\n",
        "    - result = ' '.join(mylist)"
      ],
      "metadata": {
        "id": "2TBbt18m6qs3"
      }
    },
    {
      "cell_type": "code",
      "source": [
        "# 문제 2번 답안 작성 셀\n",
        "\n",
        "mystring = \"shall I campare thee to a summer's day?\"\n",
        "mylist = mystring.split()   # 문장을 단어로 쪼개기\n",
        "cnt = -1;\n",
        "for x in mylist:\n",
        "  cnt = cnt + 1\n",
        "  if cnt % 2 == 0:   #짝수번째 단어인지 확인하는 명령어\n",
        "    mylist[cnt] = mylist[cnt].upper()   # 대문자로 바꾸기\n",
        "  else :\n",
        "    mylist[cnt] = mylist[cnt].lower()   # 소문자로 바꾸기\n",
        "\n",
        "result = ' '.join(mylist)   # 쪼개진 단어들을 띄어쓰기를 포함해 하나의 문자열로 합치기\n",
        "print(result)\n"
      ],
      "metadata": {
        "id": "VIsqqKnUBCBm",
        "colab": {
          "base_uri": "https://localhost:8080/"
        },
        "outputId": "36460295-682f-4002-ccae-b907d729cb24"
      },
      "execution_count": 22,
      "outputs": [
        {
          "output_type": "stream",
          "name": "stdout",
          "text": [
            "SHALL i CAMPARE thee TO a SUMMER'S day?\n"
          ]
        }
      ]
    },
    {
      "cell_type": "markdown",
      "source": [
        "# 문제 3. 주사위 2개를 던져서 합이 4의 배수가 나오는 모든 경우를 출력하세요. \n",
        "\n",
        "출력값:\n",
        "\n",
        "1 3 (첫번째 주사위가 1이 나오고 두번째 주사위에서 3)\n",
        "\n",
        "2 2\n",
        "\n",
        "2 6\n",
        "\n",
        "3 1\n",
        "\n",
        "3 5\n",
        "\n",
        "4 4\n",
        "\n",
        "5 3\n",
        "\n",
        "6 2\n",
        "\n",
        "6 6\n",
        "\n",
        "\n",
        "1. 힌트\n",
        "  - 중복된 for loop를 만드세요"
      ],
      "metadata": {
        "id": "-94HQEvYClwp"
      }
    },
    {
      "cell_type": "code",
      "source": [
        "# 문제 3 답안 작성 셀\n",
        "\n",
        "for x in range(1, 7):\n",
        "  for y in range(1, 7):\n",
        "    if (x + y) % 4 == 0:\n",
        "      print(x, y)\n",
        "      "
      ],
      "metadata": {
        "id": "kYcjdoQfEZYw",
        "colab": {
          "base_uri": "https://localhost:8080/"
        },
        "outputId": "f5e2ebc9-8403-4cbb-e0cc-822f1f7b08c9"
      },
      "execution_count": 11,
      "outputs": [
        {
          "output_type": "stream",
          "name": "stdout",
          "text": [
            "1 3\n",
            "2 2\n",
            "2 6\n",
            "3 1\n",
            "3 5\n",
            "4 4\n",
            "5 3\n",
            "6 2\n",
            "6 6\n"
          ]
        }
      ]
    }
  ]
}